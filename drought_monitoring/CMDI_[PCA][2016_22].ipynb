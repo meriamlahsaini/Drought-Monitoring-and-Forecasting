{
  "nbformat": 4,
  "nbformat_minor": 0,
  "metadata": {
    "colab": {
      "name": "CMDI_[PCA][2016-22].ipynb",
      "provenance": []
    },
    "kernelspec": {
      "name": "python3",
      "display_name": "Python 3"
    },
    "language_info": {
      "name": "python"
    },
    "widgets": {
      "application/vnd.jupyter.widget-state+json": {
        "055ab869ce4b47d5a234c388da443bd6": {
          "model_module": "jupyter-leaflet",
          "model_name": "LeafletMapModel",
          "model_module_version": "^0.17",
          "state": {
            "_dom_classes": [],
            "_model_module": "jupyter-leaflet",
            "_model_module_version": "^0.17",
            "_model_name": "LeafletMapModel",
            "_view_count": null,
            "_view_module": "jupyter-leaflet",
            "_view_module_version": "^0.17",
            "_view_name": "LeafletMapView",
            "bottom": 9110,
            "bounce_at_zoom_limits": true,
            "box_zoom": true,
            "center": [
              -13.453394449965073,
              27.828177406658938
            ],
            "close_popup_on_click": true,
            "controls": [
              "IPY_MODEL_159feaa0adc64aaeb551f0e1119925e4",
              "IPY_MODEL_6c32ec198e7d4085ac3a5819f8f3dfc1",
              "IPY_MODEL_bc272b13723b4f79ba25fb380d757369",
              "IPY_MODEL_6aa38ec8c254470999429c8795860bef",
              "IPY_MODEL_b5bf793f12c1419287a6e520825a183e",
              "IPY_MODEL_55b719559e6b4f549da2e6dc5b66419e",
              "IPY_MODEL_3098fd8b49704deea274ebd78ca9b192",
              "IPY_MODEL_05b035c4e72344bf82fd379497a8e2e8",
              "IPY_MODEL_bef60b8159b84460b8bf87131e9bd3d8"
            ],
            "crs": {
              "name": "EPSG3857",
              "custom": false
            },
            "default_style": "IPY_MODEL_a4a2973081b8464a8d3e991d8e77bece",
            "double_click_zoom": true,
            "dragging": true,
            "dragging_style": "IPY_MODEL_ca4dedb68b94470681b2bc4948ebec45",
            "east": 41.44042968750001,
            "fullscreen": false,
            "inertia": true,
            "inertia_deceleration": 3000,
            "inertia_max_speed": 1500,
            "interpolation": "bilinear",
            "keyboard": true,
            "keyboard_pan_offset": 80,
            "keyboard_zoom_offset": 1,
            "layers": [
              "IPY_MODEL_e4a56b12467b4d3d89b176a04134b011",
              "IPY_MODEL_2adad660c1ff48ea84a4d791d496e531",
              "IPY_MODEL_65d5fcbdad6d4fb8b025d5ae829018ca",
              "IPY_MODEL_d3ff99bd160b4533a95e4f6e954137cf",
              "IPY_MODEL_227b4e9c10f9491487fe01289c47ada4",
              "IPY_MODEL_9e288f3ffb054fcb8b5ed2aba0b11e23",
              "IPY_MODEL_6db839f264dc4a75a419d2c7f04141a5"
            ],
            "layout": "IPY_MODEL_627aee69b93b4be9bf831b9f4204fe19",
            "left": 8838,
            "max_zoom": 24,
            "min_zoom": null,
            "modisdate": "2022-08-28",
            "north": -6.970049417296218,
            "options": [
              "bounce_at_zoom_limits",
              "box_zoom",
              "center",
              "close_popup_on_click",
              "double_click_zoom",
              "dragging",
              "fullscreen",
              "inertia",
              "inertia_deceleration",
              "inertia_max_speed",
              "interpolation",
              "keyboard",
              "keyboard_pan_offset",
              "keyboard_zoom_offset",
              "max_zoom",
              "min_zoom",
              "prefer_canvas",
              "scroll_wheel_zoom",
              "tap",
              "tap_tolerance",
              "touch_zoom",
              "world_copy_jump",
              "zoom",
              "zoom_animation_threshold",
              "zoom_delta",
              "zoom_snap"
            ],
            "panes": {},
            "prefer_canvas": false,
            "right": 10078,
            "scroll_wheel_zoom": true,
            "south": -19.766703551716976,
            "style": "IPY_MODEL_17f6d5cb2aef440684da8819f763cff2",
            "tap": true,
            "tap_tolerance": 15,
            "top": 8510,
            "touch_zoom": true,
            "west": 14.194335937500002,
            "window_url": "https://nmrqt0uoe1j-496ff2e9c6d22116-0-colab.googleusercontent.com/outputframe.html?vrz=colab-20220825-060049-RC01_470064535",
            "world_copy_jump": false,
            "zoom": 6,
            "zoom_animation_threshold": 4,
            "zoom_delta": 1,
            "zoom_snap": 1
          }
        },
        "159feaa0adc64aaeb551f0e1119925e4": {
          "model_module": "jupyter-leaflet",
          "model_name": "LeafletWidgetControlModel",
          "model_module_version": "^0.17",
          "state": {
            "_model_module": "jupyter-leaflet",
            "_model_module_version": "^0.17",
            "_model_name": "LeafletWidgetControlModel",
            "_view_count": null,
            "_view_module": "jupyter-leaflet",
            "_view_module_version": "^0.17",
            "_view_name": "LeafletWidgetControlView",
            "max_height": null,
            "max_width": null,
            "min_height": null,
            "min_width": null,
            "options": [
              "position",
              "transparent_bg"
            ],
            "position": "topleft",
            "transparent_bg": false,
            "widget": "IPY_MODEL_7df7c810e6894d04af8a71319b3a2c14"
          }
        },
        "6c32ec198e7d4085ac3a5819f8f3dfc1": {
          "model_module": "jupyter-leaflet",
          "model_name": "LeafletZoomControlModel",
          "model_module_version": "^0.17",
          "state": {
            "_model_module": "jupyter-leaflet",
            "_model_module_version": "^0.17",
            "_model_name": "LeafletZoomControlModel",
            "_view_count": null,
            "_view_module": "jupyter-leaflet",
            "_view_module_version": "^0.17",
            "_view_name": "LeafletZoomControlView",
            "options": [
              "position",
              "zoom_in_text",
              "zoom_in_title",
              "zoom_out_text",
              "zoom_out_title"
            ],
            "position": "topleft",
            "zoom_in_text": "+",
            "zoom_in_title": "Zoom in",
            "zoom_out_text": "-",
            "zoom_out_title": "Zoom out"
          }
        },
        "bc272b13723b4f79ba25fb380d757369": {
          "model_module": "jupyter-leaflet",
          "model_name": "LeafletScaleControlModel",
          "model_module_version": "^0.17",
          "state": {
            "_model_module": "jupyter-leaflet",
            "_model_module_version": "^0.17",
            "_model_name": "LeafletScaleControlModel",
            "_view_count": null,
            "_view_module": "jupyter-leaflet",
            "_view_module_version": "^0.17",
            "_view_name": "LeafletScaleControlView",
            "imperial": true,
            "max_width": 100,
            "metric": true,
            "options": [
              "imperial",
              "max_width",
              "metric",
              "position",
              "update_when_idle"
            ],
            "position": "bottomleft",
            "update_when_idle": false
          }
        },
        "6aa38ec8c254470999429c8795860bef": {
          "model_module": "jupyter-leaflet",
          "model_name": "LeafletFullScreenControlModel",
          "model_module_version": "^0.17",
          "state": {
            "_model_module": "jupyter-leaflet",
            "_model_module_version": "^0.17",
            "_model_name": "LeafletFullScreenControlModel",
            "_view_count": null,
            "_view_module": "jupyter-leaflet",
            "_view_module_version": "^0.17",
            "_view_name": "LeafletFullScreenControlView",
            "options": [
              "position"
            ],
            "position": "topleft"
          }
        },
        "b5bf793f12c1419287a6e520825a183e": {
          "model_module": "jupyter-leaflet",
          "model_name": "LeafletMeasureControlModel",
          "model_module_version": "^0.17",
          "state": {
            "_custom_units": {},
            "_model_module": "jupyter-leaflet",
            "_model_module_version": "^0.17",
            "_model_name": "LeafletMeasureControlModel",
            "_view_count": null,
            "_view_module": "jupyter-leaflet",
            "_view_module_version": "^0.17",
            "_view_name": "LeafletMeasureControlView",
            "active_color": "orange",
            "capture_z_index": 10000,
            "completed_color": "#C8F2BE",
            "options": [
              "active_color",
              "capture_z_index",
              "completed_color",
              "popup_options",
              "position",
              "primary_area_unit",
              "primary_length_unit",
              "secondary_area_unit",
              "secondary_length_unit"
            ],
            "popup_options": {
              "className": "leaflet-measure-resultpopup",
              "autoPanPadding": [
                10,
                10
              ]
            },
            "position": "bottomleft",
            "primary_area_unit": "acres",
            "primary_length_unit": "kilometers",
            "secondary_area_unit": null,
            "secondary_length_unit": null
          }
        },
        "55b719559e6b4f549da2e6dc5b66419e": {
          "model_module": "jupyter-leaflet",
          "model_name": "LeafletAttributionControlModel",
          "model_module_version": "^0.17",
          "state": {
            "_model_module": "jupyter-leaflet",
            "_model_module_version": "^0.17",
            "_model_name": "LeafletAttributionControlModel",
            "_view_count": null,
            "_view_module": "jupyter-leaflet",
            "_view_module_version": "^0.17",
            "_view_name": "LeafletAttributionControlView",
            "options": [
              "position",
              "prefix"
            ],
            "position": "bottomright",
            "prefix": "ipyleaflet"
          }
        },
        "3098fd8b49704deea274ebd78ca9b192": {
          "model_module": "jupyter-leaflet",
          "model_name": "LeafletDrawControlModel",
          "model_module_version": "^0.17",
          "state": {
            "_model_module": "jupyter-leaflet",
            "_model_module_version": "^0.17",
            "_model_name": "LeafletDrawControlModel",
            "_view_count": null,
            "_view_module": "jupyter-leaflet",
            "_view_module_version": "^0.17",
            "_view_name": "LeafletDrawControlView",
            "circle": {
              "shapeOptions": {
                "color": "#3388ff"
              }
            },
            "circlemarker": {},
            "data": [],
            "edit": true,
            "marker": {
              "shapeOptions": {
                "color": "#3388ff"
              }
            },
            "options": [
              "position"
            ],
            "polygon": {
              "shapeOptions": {}
            },
            "polyline": {
              "shapeOptions": {}
            },
            "position": "topleft",
            "rectangle": {
              "shapeOptions": {
                "color": "#3388ff"
              }
            },
            "remove": true
          }
        },
        "05b035c4e72344bf82fd379497a8e2e8": {
          "model_module": "jupyter-leaflet",
          "model_name": "LeafletWidgetControlModel",
          "model_module_version": "^0.17",
          "state": {
            "_model_module": "jupyter-leaflet",
            "_model_module_version": "^0.17",
            "_model_name": "LeafletWidgetControlModel",
            "_view_count": null,
            "_view_module": "jupyter-leaflet",
            "_view_module_version": "^0.17",
            "_view_name": "LeafletWidgetControlView",
            "max_height": null,
            "max_width": null,
            "min_height": null,
            "min_width": null,
            "options": [
              "position",
              "transparent_bg"
            ],
            "position": "topright",
            "transparent_bg": false,
            "widget": "IPY_MODEL_e7b34dc95a78483b8f15e8f2a6f624e0"
          }
        },
        "bef60b8159b84460b8bf87131e9bd3d8": {
          "model_module": "jupyter-leaflet",
          "model_name": "LeafletWidgetControlModel",
          "model_module_version": "^0.17",
          "state": {
            "_model_module": "jupyter-leaflet",
            "_model_module_version": "^0.17",
            "_model_name": "LeafletWidgetControlModel",
            "_view_count": null,
            "_view_module": "jupyter-leaflet",
            "_view_module_version": "^0.17",
            "_view_name": "LeafletWidgetControlView",
            "max_height": null,
            "max_width": null,
            "min_height": null,
            "min_width": null,
            "options": [
              "position",
              "transparent_bg"
            ],
            "position": "bottomright",
            "transparent_bg": false,
            "widget": "IPY_MODEL_4ba49ba0c67642e0b8b2a72c2851e3dd"
          }
        },
        "a4a2973081b8464a8d3e991d8e77bece": {
          "model_module": "jupyter-leaflet",
          "model_name": "LeafletMapStyleModel",
          "model_module_version": "^0.17",
          "state": {
            "_model_module": "jupyter-leaflet",
            "_model_module_version": "^0.17",
            "_model_name": "LeafletMapStyleModel",
            "_view_count": null,
            "_view_module": "@jupyter-widgets/base",
            "_view_module_version": "1.2.0",
            "_view_name": "StyleView",
            "cursor": "grab"
          }
        },
        "ca4dedb68b94470681b2bc4948ebec45": {
          "model_module": "jupyter-leaflet",
          "model_name": "LeafletMapStyleModel",
          "model_module_version": "^0.17",
          "state": {
            "_model_module": "jupyter-leaflet",
            "_model_module_version": "^0.17",
            "_model_name": "LeafletMapStyleModel",
            "_view_count": null,
            "_view_module": "@jupyter-widgets/base",
            "_view_module_version": "1.2.0",
            "_view_name": "StyleView",
            "cursor": "move"
          }
        },
        "e4a56b12467b4d3d89b176a04134b011": {
          "model_module": "jupyter-leaflet",
          "model_name": "LeafletTileLayerModel",
          "model_module_version": "^0.17",
          "state": {
            "_model_module": "jupyter-leaflet",
            "_model_module_version": "^0.17",
            "_model_name": "LeafletTileLayerModel",
            "_view_count": null,
            "_view_module": "jupyter-leaflet",
            "_view_module_version": "^0.17",
            "_view_name": "LeafletTileLayerView",
            "attribution": "&copy; <a href=\"https://www.openstreetmap.org/copyright\">OpenStreetMap</a> contributors",
            "base": true,
            "bottom": true,
            "bounds": null,
            "detect_retina": false,
            "loading": false,
            "max_native_zoom": null,
            "max_zoom": 19,
            "min_native_zoom": null,
            "min_zoom": 1,
            "name": "OpenStreetMap.Mapnik",
            "no_wrap": false,
            "opacity": 1,
            "options": [
              "attribution",
              "bounds",
              "detect_retina",
              "max_native_zoom",
              "max_zoom",
              "min_native_zoom",
              "min_zoom",
              "no_wrap",
              "tile_size",
              "tms",
              "zoom_offset"
            ],
            "pane": "",
            "popup": null,
            "popup_max_height": null,
            "popup_max_width": 300,
            "popup_min_width": 50,
            "show_loading": false,
            "tile_size": 256,
            "tms": false,
            "url": "https://a.tile.openstreetmap.org/{z}/{x}/{y}.png",
            "visible": true,
            "zoom_offset": 0
          }
        },
        "2adad660c1ff48ea84a4d791d496e531": {
          "model_module": "jupyter-leaflet",
          "model_name": "LeafletTileLayerModel",
          "model_module_version": "^0.17",
          "state": {
            "_model_module": "jupyter-leaflet",
            "_model_module_version": "^0.17",
            "_model_name": "LeafletTileLayerModel",
            "_view_count": null,
            "_view_module": "jupyter-leaflet",
            "_view_module_version": "^0.17",
            "_view_name": "LeafletTileLayerView",
            "attribution": "Google",
            "base": false,
            "bottom": true,
            "bounds": null,
            "detect_retina": false,
            "loading": false,
            "max_native_zoom": null,
            "max_zoom": 22,
            "min_native_zoom": null,
            "min_zoom": 0,
            "name": "Google Maps",
            "no_wrap": false,
            "opacity": 1,
            "options": [
              "attribution",
              "bounds",
              "detect_retina",
              "max_native_zoom",
              "max_zoom",
              "min_native_zoom",
              "min_zoom",
              "no_wrap",
              "tile_size",
              "tms",
              "zoom_offset"
            ],
            "pane": "",
            "popup": null,
            "popup_max_height": null,
            "popup_max_width": 300,
            "popup_min_width": 50,
            "show_loading": false,
            "tile_size": 256,
            "tms": false,
            "url": "https://mt1.google.com/vt/lyrs=m&x={x}&y={y}&z={z}",
            "visible": true,
            "zoom_offset": 0
          }
        },
        "65d5fcbdad6d4fb8b025d5ae829018ca": {
          "model_module": "jupyter-leaflet",
          "model_name": "LeafletTileLayerModel",
          "model_module_version": "^0.17",
          "state": {
            "_model_module": "jupyter-leaflet",
            "_model_module_version": "^0.17",
            "_model_name": "LeafletTileLayerModel",
            "_view_count": null,
            "_view_module": "jupyter-leaflet",
            "_view_module_version": "^0.17",
            "_view_name": "LeafletTileLayerView",
            "attribution": "Google Earth Engine",
            "base": false,
            "bottom": true,
            "bounds": null,
            "detect_retina": false,
            "loading": false,
            "max_native_zoom": null,
            "max_zoom": 24,
            "min_native_zoom": null,
            "min_zoom": 0,
            "name": "VCI, January 2021",
            "no_wrap": false,
            "opacity": 1,
            "options": [
              "attribution",
              "bounds",
              "detect_retina",
              "max_native_zoom",
              "max_zoom",
              "min_native_zoom",
              "min_zoom",
              "no_wrap",
              "tile_size",
              "tms",
              "zoom_offset"
            ],
            "pane": "",
            "popup": null,
            "popup_max_height": null,
            "popup_max_width": 300,
            "popup_min_width": 50,
            "show_loading": false,
            "tile_size": 256,
            "tms": false,
            "url": "https://earthengine.googleapis.com/v1alpha/projects/earthengine-legacy/maps/ed223bd75d19cb68000192d5a9ce09b0-f3330f2e237af16f85d945e9d2b0a972/tiles/{z}/{x}/{y}",
            "visible": true,
            "zoom_offset": 0
          }
        },
        "d3ff99bd160b4533a95e4f6e954137cf": {
          "model_module": "jupyter-leaflet",
          "model_name": "LeafletTileLayerModel",
          "model_module_version": "^0.17",
          "state": {
            "_model_module": "jupyter-leaflet",
            "_model_module_version": "^0.17",
            "_model_name": "LeafletTileLayerModel",
            "_view_count": null,
            "_view_module": "jupyter-leaflet",
            "_view_module_version": "^0.17",
            "_view_name": "LeafletTileLayerView",
            "attribution": "Google Earth Engine",
            "base": false,
            "bottom": true,
            "bounds": null,
            "detect_retina": false,
            "loading": false,
            "max_native_zoom": null,
            "max_zoom": 24,
            "min_native_zoom": null,
            "min_zoom": 0,
            "name": "TCI, January 2021",
            "no_wrap": false,
            "opacity": 1,
            "options": [
              "attribution",
              "bounds",
              "detect_retina",
              "max_native_zoom",
              "max_zoom",
              "min_native_zoom",
              "min_zoom",
              "no_wrap",
              "tile_size",
              "tms",
              "zoom_offset"
            ],
            "pane": "",
            "popup": null,
            "popup_max_height": null,
            "popup_max_width": 300,
            "popup_min_width": 50,
            "show_loading": false,
            "tile_size": 256,
            "tms": false,
            "url": "https://earthengine.googleapis.com/v1alpha/projects/earthengine-legacy/maps/339617d8ee0d3b5f4bd1ce4e848eae1c-abc9d706f1173149ea908ac7c6dbee0d/tiles/{z}/{x}/{y}",
            "visible": true,
            "zoom_offset": 0
          }
        },
        "227b4e9c10f9491487fe01289c47ada4": {
          "model_module": "jupyter-leaflet",
          "model_name": "LeafletTileLayerModel",
          "model_module_version": "^0.17",
          "state": {
            "_model_module": "jupyter-leaflet",
            "_model_module_version": "^0.17",
            "_model_name": "LeafletTileLayerModel",
            "_view_count": null,
            "_view_module": "jupyter-leaflet",
            "_view_module_version": "^0.17",
            "_view_name": "LeafletTileLayerView",
            "attribution": "Google Earth Engine",
            "base": false,
            "bottom": true,
            "bounds": null,
            "detect_retina": false,
            "loading": false,
            "max_native_zoom": null,
            "max_zoom": 24,
            "min_native_zoom": null,
            "min_zoom": 0,
            "name": "PCI, January 2021",
            "no_wrap": false,
            "opacity": 1,
            "options": [
              "attribution",
              "bounds",
              "detect_retina",
              "max_native_zoom",
              "max_zoom",
              "min_native_zoom",
              "min_zoom",
              "no_wrap",
              "tile_size",
              "tms",
              "zoom_offset"
            ],
            "pane": "",
            "popup": null,
            "popup_max_height": null,
            "popup_max_width": 300,
            "popup_min_width": 50,
            "show_loading": false,
            "tile_size": 256,
            "tms": false,
            "url": "https://earthengine.googleapis.com/v1alpha/projects/earthengine-legacy/maps/a954c05222c8730f5d6183791c8d58bd-7d6c641eea846e2fcdc0a7be5f2ee2ac/tiles/{z}/{x}/{y}",
            "visible": true,
            "zoom_offset": 0
          }
        },
        "9e288f3ffb054fcb8b5ed2aba0b11e23": {
          "model_module": "jupyter-leaflet",
          "model_name": "LeafletTileLayerModel",
          "model_module_version": "^0.17",
          "state": {
            "_model_module": "jupyter-leaflet",
            "_model_module_version": "^0.17",
            "_model_name": "LeafletTileLayerModel",
            "_view_count": null,
            "_view_module": "jupyter-leaflet",
            "_view_module_version": "^0.17",
            "_view_name": "LeafletTileLayerView",
            "attribution": "Google Earth Engine",
            "base": false,
            "bottom": true,
            "bounds": null,
            "detect_retina": false,
            "loading": false,
            "max_native_zoom": null,
            "max_zoom": 24,
            "min_native_zoom": null,
            "min_zoom": 0,
            "name": "ETCI,January 2021",
            "no_wrap": false,
            "opacity": 1,
            "options": [
              "attribution",
              "bounds",
              "detect_retina",
              "max_native_zoom",
              "max_zoom",
              "min_native_zoom",
              "min_zoom",
              "no_wrap",
              "tile_size",
              "tms",
              "zoom_offset"
            ],
            "pane": "",
            "popup": null,
            "popup_max_height": null,
            "popup_max_width": 300,
            "popup_min_width": 50,
            "show_loading": false,
            "tile_size": 256,
            "tms": false,
            "url": "https://earthengine.googleapis.com/v1alpha/projects/earthengine-legacy/maps/38a73f31fdf12aa1a8de07c475859a6b-11edf8e98d88a2fd70d4958108ff0a44/tiles/{z}/{x}/{y}",
            "visible": true,
            "zoom_offset": 0
          }
        },
        "6db839f264dc4a75a419d2c7f04141a5": {
          "model_module": "jupyter-leaflet",
          "model_name": "LeafletTileLayerModel",
          "model_module_version": "^0.17",
          "state": {
            "_model_module": "jupyter-leaflet",
            "_model_module_version": "^0.17",
            "_model_name": "LeafletTileLayerModel",
            "_view_count": null,
            "_view_module": "jupyter-leaflet",
            "_view_module_version": "^0.17",
            "_view_name": "LeafletTileLayerView",
            "attribution": "Google Earth Engine",
            "base": false,
            "bottom": true,
            "bounds": null,
            "detect_retina": false,
            "loading": false,
            "max_native_zoom": null,
            "max_zoom": 24,
            "min_native_zoom": null,
            "min_zoom": 0,
            "name": "SMCI, January 2021",
            "no_wrap": false,
            "opacity": 1,
            "options": [
              "attribution",
              "bounds",
              "detect_retina",
              "max_native_zoom",
              "max_zoom",
              "min_native_zoom",
              "min_zoom",
              "no_wrap",
              "tile_size",
              "tms",
              "zoom_offset"
            ],
            "pane": "",
            "popup": null,
            "popup_max_height": null,
            "popup_max_width": 300,
            "popup_min_width": 50,
            "show_loading": false,
            "tile_size": 256,
            "tms": false,
            "url": "https://earthengine.googleapis.com/v1alpha/projects/earthengine-legacy/maps/bd087606831b7e5284c62c6e03328384-8ed688de097a69baf04ad030fd465175/tiles/{z}/{x}/{y}",
            "visible": true,
            "zoom_offset": 0
          }
        },
        "627aee69b93b4be9bf831b9f4204fe19": {
          "model_module": "@jupyter-widgets/base",
          "model_name": "LayoutModel",
          "model_module_version": "1.2.0",
          "state": {
            "_model_module": "@jupyter-widgets/base",
            "_model_module_version": "1.2.0",
            "_model_name": "LayoutModel",
            "_view_count": null,
            "_view_module": "@jupyter-widgets/base",
            "_view_module_version": "1.2.0",
            "_view_name": "LayoutView",
            "align_content": null,
            "align_items": null,
            "align_self": null,
            "border": null,
            "bottom": null,
            "display": null,
            "flex": null,
            "flex_flow": null,
            "grid_area": null,
            "grid_auto_columns": null,
            "grid_auto_flow": null,
            "grid_auto_rows": null,
            "grid_column": null,
            "grid_gap": null,
            "grid_row": null,
            "grid_template_areas": null,
            "grid_template_columns": null,
            "grid_template_rows": null,
            "height": "600px",
            "justify_content": null,
            "justify_items": null,
            "left": null,
            "margin": null,
            "max_height": null,
            "max_width": null,
            "min_height": null,
            "min_width": null,
            "object_fit": null,
            "object_position": null,
            "order": null,
            "overflow": null,
            "overflow_x": null,
            "overflow_y": null,
            "padding": null,
            "right": null,
            "top": null,
            "visibility": null,
            "width": null
          }
        },
        "17f6d5cb2aef440684da8819f763cff2": {
          "model_module": "jupyter-leaflet",
          "model_name": "LeafletMapStyleModel",
          "model_module_version": "^0.17",
          "state": {
            "_model_module": "jupyter-leaflet",
            "_model_module_version": "^0.17",
            "_model_name": "LeafletMapStyleModel",
            "_view_count": null,
            "_view_module": "@jupyter-widgets/base",
            "_view_module_version": "1.2.0",
            "_view_name": "StyleView",
            "cursor": "grab"
          }
        },
        "7df7c810e6894d04af8a71319b3a2c14": {
          "model_module": "@jupyter-widgets/controls",
          "model_name": "HBoxModel",
          "model_module_version": "1.5.0",
          "state": {
            "_dom_classes": [],
            "_model_module": "@jupyter-widgets/controls",
            "_model_module_version": "1.5.0",
            "_model_name": "HBoxModel",
            "_view_count": null,
            "_view_module": "@jupyter-widgets/controls",
            "_view_module_version": "1.5.0",
            "_view_name": "HBoxView",
            "box_style": "",
            "children": [
              "IPY_MODEL_4b1d68e6ad5e4071bc8564602932a93c"
            ],
            "layout": "IPY_MODEL_d6b0f00bb8ed46bab617b829d1560b48"
          }
        },
        "e7b34dc95a78483b8f15e8f2a6f624e0": {
          "model_module": "@jupyter-widgets/controls",
          "model_name": "VBoxModel",
          "model_module_version": "1.5.0",
          "state": {
            "_dom_classes": [],
            "_model_module": "@jupyter-widgets/controls",
            "_model_module_version": "1.5.0",
            "_model_name": "VBoxModel",
            "_view_count": null,
            "_view_module": "@jupyter-widgets/controls",
            "_view_module_version": "1.5.0",
            "_view_name": "VBoxView",
            "box_style": "",
            "children": [
              "IPY_MODEL_3c7f92baad1d44289a38e4880e523b11"
            ],
            "layout": "IPY_MODEL_bf70d151b17a4f00afcc492812fa7cd1"
          }
        },
        "4ba49ba0c67642e0b8b2a72c2851e3dd": {
          "model_module": "@jupyter-widgets/output",
          "model_name": "OutputModel",
          "model_module_version": "1.0.0",
          "state": {
            "_dom_classes": [],
            "_model_module": "@jupyter-widgets/output",
            "_model_module_version": "1.0.0",
            "_model_name": "OutputModel",
            "_view_count": null,
            "_view_module": "@jupyter-widgets/output",
            "_view_module_version": "1.0.0",
            "_view_name": "OutputView",
            "layout": "IPY_MODEL_7b6ecd4b27eb40009f3b65db3fd77ffb",
            "msg_id": "",
            "outputs": [
              {
                "output_type": "display_data",
                "data": {
                  "text/plain": "<Figure size 28.8x288 with 1 Axes>",
                  "image/png": "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\n"
                },
                "metadata": {
                  "needs_background": "light"
                }
              }
            ]
          }
        },
        "4b1d68e6ad5e4071bc8564602932a93c": {
          "model_module": "@jupyter-widgets/controls",
          "model_name": "ToggleButtonModel",
          "model_module_version": "1.5.0",
          "state": {
            "_dom_classes": [],
            "_model_module": "@jupyter-widgets/controls",
            "_model_module_version": "1.5.0",
            "_model_name": "ToggleButtonModel",
            "_view_count": null,
            "_view_module": "@jupyter-widgets/controls",
            "_view_module_version": "1.5.0",
            "_view_name": "ToggleButtonView",
            "button_style": "",
            "description": "",
            "description_tooltip": null,
            "disabled": false,
            "icon": "globe",
            "layout": "IPY_MODEL_adf65ae2270e42a0bb3df12d7084630e",
            "style": "IPY_MODEL_5a4e35302f454ef585221fddfba4911f",
            "tooltip": "Search location/data",
            "value": false
          }
        },
        "d6b0f00bb8ed46bab617b829d1560b48": {
          "model_module": "@jupyter-widgets/base",
          "model_name": "LayoutModel",
          "model_module_version": "1.2.0",
          "state": {
            "_model_module": "@jupyter-widgets/base",
            "_model_module_version": "1.2.0",
            "_model_name": "LayoutModel",
            "_view_count": null,
            "_view_module": "@jupyter-widgets/base",
            "_view_module_version": "1.2.0",
            "_view_name": "LayoutView",
            "align_content": null,
            "align_items": null,
            "align_self": null,
            "border": null,
            "bottom": null,
            "display": null,
            "flex": null,
            "flex_flow": null,
            "grid_area": null,
            "grid_auto_columns": null,
            "grid_auto_flow": null,
            "grid_auto_rows": null,
            "grid_column": null,
            "grid_gap": null,
            "grid_row": null,
            "grid_template_areas": null,
            "grid_template_columns": null,
            "grid_template_rows": null,
            "height": null,
            "justify_content": null,
            "justify_items": null,
            "left": null,
            "margin": null,
            "max_height": null,
            "max_width": null,
            "min_height": null,
            "min_width": null,
            "object_fit": null,
            "object_position": null,
            "order": null,
            "overflow": null,
            "overflow_x": null,
            "overflow_y": null,
            "padding": null,
            "right": null,
            "top": null,
            "visibility": null,
            "width": null
          }
        },
        "3c7f92baad1d44289a38e4880e523b11": {
          "model_module": "@jupyter-widgets/controls",
          "model_name": "ToggleButtonModel",
          "model_module_version": "1.5.0",
          "state": {
            "_dom_classes": [],
            "_model_module": "@jupyter-widgets/controls",
            "_model_module_version": "1.5.0",
            "_model_name": "ToggleButtonModel",
            "_view_count": null,
            "_view_module": "@jupyter-widgets/controls",
            "_view_module_version": "1.5.0",
            "_view_name": "ToggleButtonView",
            "button_style": "",
            "description": "",
            "description_tooltip": null,
            "disabled": false,
            "icon": "wrench",
            "layout": "IPY_MODEL_bc4a4d1d3d2441089a64ef8edb7e26bf",
            "style": "IPY_MODEL_d21bfcf1e9fd418591327792968e7a5a",
            "tooltip": "Toolbar",
            "value": false
          }
        },
        "bf70d151b17a4f00afcc492812fa7cd1": {
          "model_module": "@jupyter-widgets/base",
          "model_name": "LayoutModel",
          "model_module_version": "1.2.0",
          "state": {
            "_model_module": "@jupyter-widgets/base",
            "_model_module_version": "1.2.0",
            "_model_name": "LayoutModel",
            "_view_count": null,
            "_view_module": "@jupyter-widgets/base",
            "_view_module_version": "1.2.0",
            "_view_name": "LayoutView",
            "align_content": null,
            "align_items": null,
            "align_self": null,
            "border": null,
            "bottom": null,
            "display": null,
            "flex": null,
            "flex_flow": null,
            "grid_area": null,
            "grid_auto_columns": null,
            "grid_auto_flow": null,
            "grid_auto_rows": null,
            "grid_column": null,
            "grid_gap": null,
            "grid_row": null,
            "grid_template_areas": null,
            "grid_template_columns": null,
            "grid_template_rows": null,
            "height": null,
            "justify_content": null,
            "justify_items": null,
            "left": null,
            "margin": null,
            "max_height": null,
            "max_width": null,
            "min_height": null,
            "min_width": null,
            "object_fit": null,
            "object_position": null,
            "order": null,
            "overflow": null,
            "overflow_x": null,
            "overflow_y": null,
            "padding": null,
            "right": null,
            "top": null,
            "visibility": null,
            "width": null
          }
        },
        "7b6ecd4b27eb40009f3b65db3fd77ffb": {
          "model_module": "@jupyter-widgets/base",
          "model_name": "LayoutModel",
          "model_module_version": "1.2.0",
          "state": {
            "_model_module": "@jupyter-widgets/base",
            "_model_module_version": "1.2.0",
            "_model_name": "LayoutModel",
            "_view_count": null,
            "_view_module": "@jupyter-widgets/base",
            "_view_module_version": "1.2.0",
            "_view_name": "LayoutView",
            "align_content": null,
            "align_items": null,
            "align_self": null,
            "border": null,
            "bottom": null,
            "display": null,
            "flex": null,
            "flex_flow": null,
            "grid_area": null,
            "grid_auto_columns": null,
            "grid_auto_flow": null,
            "grid_auto_rows": null,
            "grid_column": null,
            "grid_gap": null,
            "grid_row": null,
            "grid_template_areas": null,
            "grid_template_columns": null,
            "grid_template_rows": null,
            "height": null,
            "justify_content": null,
            "justify_items": null,
            "left": null,
            "margin": null,
            "max_height": null,
            "max_width": null,
            "min_height": null,
            "min_width": null,
            "object_fit": null,
            "object_position": null,
            "order": null,
            "overflow": null,
            "overflow_x": null,
            "overflow_y": null,
            "padding": null,
            "right": null,
            "top": null,
            "visibility": null,
            "width": null
          }
        },
        "adf65ae2270e42a0bb3df12d7084630e": {
          "model_module": "@jupyter-widgets/base",
          "model_name": "LayoutModel",
          "model_module_version": "1.2.0",
          "state": {
            "_model_module": "@jupyter-widgets/base",
            "_model_module_version": "1.2.0",
            "_model_name": "LayoutModel",
            "_view_count": null,
            "_view_module": "@jupyter-widgets/base",
            "_view_module_version": "1.2.0",
            "_view_name": "LayoutView",
            "align_content": null,
            "align_items": null,
            "align_self": null,
            "border": null,
            "bottom": null,
            "display": null,
            "flex": null,
            "flex_flow": null,
            "grid_area": null,
            "grid_auto_columns": null,
            "grid_auto_flow": null,
            "grid_auto_rows": null,
            "grid_column": null,
            "grid_gap": null,
            "grid_row": null,
            "grid_template_areas": null,
            "grid_template_columns": null,
            "grid_template_rows": null,
            "height": "28px",
            "justify_content": null,
            "justify_items": null,
            "left": null,
            "margin": null,
            "max_height": null,
            "max_width": null,
            "min_height": null,
            "min_width": null,
            "object_fit": null,
            "object_position": null,
            "order": null,
            "overflow": null,
            "overflow_x": null,
            "overflow_y": null,
            "padding": "0px 0px 0px 4px",
            "right": null,
            "top": null,
            "visibility": null,
            "width": "28px"
          }
        },
        "5a4e35302f454ef585221fddfba4911f": {
          "model_module": "@jupyter-widgets/controls",
          "model_name": "DescriptionStyleModel",
          "model_module_version": "1.5.0",
          "state": {
            "_model_module": "@jupyter-widgets/controls",
            "_model_module_version": "1.5.0",
            "_model_name": "DescriptionStyleModel",
            "_view_count": null,
            "_view_module": "@jupyter-widgets/base",
            "_view_module_version": "1.2.0",
            "_view_name": "StyleView",
            "description_width": ""
          }
        },
        "bc4a4d1d3d2441089a64ef8edb7e26bf": {
          "model_module": "@jupyter-widgets/base",
          "model_name": "LayoutModel",
          "model_module_version": "1.2.0",
          "state": {
            "_model_module": "@jupyter-widgets/base",
            "_model_module_version": "1.2.0",
            "_model_name": "LayoutModel",
            "_view_count": null,
            "_view_module": "@jupyter-widgets/base",
            "_view_module_version": "1.2.0",
            "_view_name": "LayoutView",
            "align_content": null,
            "align_items": null,
            "align_self": null,
            "border": null,
            "bottom": null,
            "display": null,
            "flex": null,
            "flex_flow": null,
            "grid_area": null,
            "grid_auto_columns": null,
            "grid_auto_flow": null,
            "grid_auto_rows": null,
            "grid_column": null,
            "grid_gap": null,
            "grid_row": null,
            "grid_template_areas": null,
            "grid_template_columns": null,
            "grid_template_rows": null,
            "height": "28px",
            "justify_content": null,
            "justify_items": null,
            "left": null,
            "margin": null,
            "max_height": null,
            "max_width": null,
            "min_height": null,
            "min_width": null,
            "object_fit": null,
            "object_position": null,
            "order": null,
            "overflow": null,
            "overflow_x": null,
            "overflow_y": null,
            "padding": "0px 0px 0px 4px",
            "right": null,
            "top": null,
            "visibility": null,
            "width": "28px"
          }
        },
        "d21bfcf1e9fd418591327792968e7a5a": {
          "model_module": "@jupyter-widgets/controls",
          "model_name": "DescriptionStyleModel",
          "model_module_version": "1.5.0",
          "state": {
            "_model_module": "@jupyter-widgets/controls",
            "_model_module_version": "1.5.0",
            "_model_name": "DescriptionStyleModel",
            "_view_count": null,
            "_view_module": "@jupyter-widgets/base",
            "_view_module_version": "1.2.0",
            "_view_name": "StyleView",
            "description_width": ""
          }
        }
      }
    }
  },
  "cells": [
    {
      "cell_type": "code",
      "execution_count": 28,
      "metadata": {
        "id": "OAwbp_5UEGC6"
      },
      "outputs": [],
      "source": [
        "# Google CLoud Storage\n",
        "# !pip install google-cloud-storage\n",
        "\n",
        "# Install geemap package\n",
        "import subprocess\n",
        "\n",
        "try:\n",
        "    import geemap\n",
        "except ImportError:\n",
        "    print('Installing geemap ...')\n",
        "    subprocess.check_call([\"python\", '-m', 'pip', 'install', 'geemap'])"
      ]
    },
    {
      "cell_type": "code",
      "source": [
        "import ee, geemap\n",
        "import math\n",
        "import gc\n",
        "import numpy as np\n",
        "from argparse import ArgumentDefaultsHelpFormatter, ArgumentParser\n",
        "\n",
        "ee.Authenticate()\n",
        "ee.Initialize()"
      ],
      "metadata": {
        "colab": {
          "base_uri": "https://localhost:8080/",
          "height": 176
        },
        "id": "U9RCb_HfEOC6",
        "outputId": "0c5d9945-1b46-40c4-dab4-b267664021ac"
      },
      "execution_count": 2,
      "outputs": [
        {
          "output_type": "stream",
          "name": "stdout",
          "text": [
            "To authorize access needed by Earth Engine, open the following URL in a web browser and follow the instructions. If the web browser does not start automatically, please manually browse the URL below.\n",
            "\n",
            "    https://code.earthengine.google.com/client-auth?scopes=https%3A//www.googleapis.com/auth/earthengine%20https%3A//www.googleapis.com/auth/devstorage.full_control&request_id=4ZXFhzpcfP3dr5dE_PWAoto0iNmrNDSgcasjpWLMrLQ&tc=sXcDlAGpeUd6CSywyxjCNuevWVem-BlQmiHIX2zKELA&cc=IhkZaTMBZy3jv5RrvwKjHC19bv8hFqp-Sl1sMnrAJQo\n",
            "\n",
            "The authorization workflow will generate a code, which you should paste in the box below.\n",
            "Enter verification code: 4/1AdQt8qhl8r9XGT2qW8VKkNOXKyR6fcHUcogNB9fcKLhhfTrnv84STbb-LgA\n",
            "\n",
            "Successfully saved authorization token.\n"
          ]
        }
      ]
    },
    {
      "cell_type": "code",
      "source": [
        "def get_main_args():\n",
        "    parser = ArgumentParser(formatter_class=ArgumentDefaultsHelpFormatter)\n",
        "    arg = parser.add_argument\n",
        "    \n",
        "    arg(\"--afghanistan_dir\", type=str, default=\"users/Plottings/Afghanistan\", help=\"Afghanistan Boundary Map Directory\")\n",
        "    arg(\"--burkina_faso_dir\", type=str, default=\"users/Plottings/Burkina_Faso\", help=\"Burkina Faso Boundary Map Directory\")\n",
        "    arg(\"--ethiopia_dir\", type=str, default=\"users/Plottings/Ethiopia\", help=\"Ethiopia Boundary Map Directory\")\n",
        "    arg(\"--ghana_dir\", type=str, default=\"users/Plottings/Ghana\", help=\"Ghana Boundary Map Directory\")\n",
        "    arg(\"--kenya_dir\", type=str, default=\"users/Plottings/Kenya\", help=\"Kenya Boundary Map Directory\")\n",
        "    arg(\"--senegal_dir\", type=str, default=\"users/Plottings/Senegal\", help=\"Senegal Boundary Map Directory\")\n",
        "    arg(\"--zambia_dir\", type=str, default=\"users/Plottings/Zambia\", help=\"Zambia Boundary Map Directory\")    \n",
        "    arg(\"--terra_LST_dir\", type=str, default=\"MODIS/061/MOD11A1\", help=\"Terra LST Image Collection\")\n",
        "    arg(\"--aqua_LST_dir\", type=str, default=\"MODIS/061/MYD11A1\", help=\"Aqua LST Image Collection\")\n",
        "    arg(\"--terra_NDVI_dir\", type=str, default=\"MODIS/061/MOD13Q1\", help=\"Terra NDVI Image Collection\")\n",
        "    arg(\"--aqua_NDVI_dir\", type=str, default=\"MODIS/061/MYD13Q1\", help=\"Aqua NDVI Image Collection\")\n",
        "    arg(\"--modis_ET_dir\", type=str, default=\"MODIS/006/MOD16A2\", help=\"ET Image Collection\")\n",
        "    arg(\"--precip_dir\", type=str, default=\"NASA/GPM_L3/IMERG_V06\", help=\"Precip Image Collection\")\n",
        "    arg(\"--sm_dir\", type=str, default=\"NASA/GLDAS/V021/NOAH/G025/T3H\", help=\"SM Image Collection\")\n",
        "    arg(\"--years\", type=list, default=[2016+i for i in range(7)], help=\"Study Period Range-years\")\n",
        "    arg(\"--months\", type=list, default=[1, 2, 3, 4], help=\"Study Period Range-months\")\n",
        "    arg(\"--season\", type=str, default='Growing', help=\"Study Period Season\")\n",
        "    arg(\"--visualize\", type=bool, default=True, help=\"Option to Display Maps\")\n",
        "    arg(\"--idx\", type=int, default=20, help=\"Index of Image to Display\")\n",
        "    arg(\"--vciVis\", type=dict, default={'min':0.0, 'max': 1.0,\n",
        "                                        'palette': ['FFFFFF', 'CE7E45', 'DF923D', 'F1B555', 'FCD163', \n",
        "                                        '99B718', '74A901','66A000', '529400', '3E8601', \n",
        "                                        '207401', '056201', '004C00', '023B01','012E01', \n",
        "                                        '011D01', '011301']}, help=\"Visualization Parameters of VCI\")\n",
        "    arg(\"--tciVis\", type=dict, default={'min':0.0, 'max': 1.0,\n",
        "                                        'palette': ['040274', '040281', '0502a3', '0502b8', '0502ce', '0502e6',\n",
        "                                                    '0602ff', '235cb1', '307ef3', '269db1', '30c8e2', '32d3ef',\n",
        "                                                    '3be285', '3ff38f', '86e26f', '3ae237', 'b5e22e', 'd6e21f',\n",
        "                                                    'fff705', 'ffd611', 'ffb613', 'ff8b13', 'ff6e08', 'ff500d',\n",
        "                                                    'ff0000', 'de0101', 'c21301', 'a71001', '911003']}, help=\"Visualization Parameters of TCI\")\n",
        "    arg(\"--pciVis\", type=dict, default={'min':0.0, 'max': 1.0,\n",
        "                                        'palette': ['d7191c','fdae61','ffffbf','abdda4','2b83ba']}, help=\"Visualization Parameters of PCI\")\n",
        "    arg(\"--etciVis\", type=dict, default={'min':0.0, 'max': 1.0,\n",
        "                                        'palette': ['blue', 'orange', 'red']}, help=\"Visualization Parameters of ETCI\")\n",
        "    arg(\"--smciVis\", type=dict, default={'min':0.0, 'max': 1.0,\n",
        "                                        'palette': ['0300ff', '418504','efff07', 'efff07', 'ff0303']}, help=\"Visualization Parameters of SMCI\") \n",
        "    arg(\"--cdmiVis\", type=dict, default = {'min':0.0, 'max': 1.0,\n",
        "                                           'palette':  ['#a50026','#d73027','#f46d43','#fdae61','#fee08b',\n",
        "                                                        '#ffffbf','#d9ef8b','#a6d96a','#66bd63','#1a9850','#006837']}, help=\"Visualization Parameters of CMDI\")\n",
        "    arg(\"--scale\", type=int, default=250, help=\"Downsampling Scale\")\n",
        "    arg(\"--bandNames\", type=list, default=['VCI', 'TCI', 'PCI', 'ETCI', 'SMCI'], help=\"Downsampling Scale\")\n",
        "\n",
        "\n",
        "    return parser.parse_args([])\n"
      ],
      "metadata": {
        "id": "NqeafT6BEnx8"
      },
      "execution_count": 3,
      "outputs": []
    },
    {
      "cell_type": "code",
      "source": [
        "class GetIndices():\n",
        "  def __init__(self, args, roi, index, sum=False):\n",
        "    \n",
        "    self.args = args\n",
        "    self.sum = sum\n",
        "    self.index = index\n",
        "    self.roi = roi\n",
        "\n",
        "    self.raw_data = self.filter_data()\n",
        "    self.seasonal_data = self.seasonal_filter()\n",
        "    self.monthly_agg  = self.monthly_Data()\n",
        "    self.monthly_min, self.monthly_max = self.monthly_Min_Max()\n",
        "\n",
        "  def filter_data(self):\n",
        "    if self.index == 'TCI':\n",
        "      terra_lst = ee.ImageCollection(self.args.terra_LST_dir)\n",
        "      aqua_lst = ee.ImageCollection(self.args.terra_LST_dir)\n",
        "      MODIS_LST = terra_lst.merge(aqua_lst)\\\n",
        "                           .filterBounds(self.roi)\\\n",
        "                           .select('LST_Day_1km') \n",
        "      return MODIS_LST.map(lambda img: img.multiply(0.02)\\\n",
        "                                          .subtract(273.15)\\\n",
        "                                          .float()\\\n",
        "                                          .set(\"system:time_start\", img.get(\"system:time_start\")))\n",
        "\n",
        "\n",
        "    elif self.index == 'VCI': \n",
        "      terra_ndvi = ee.ImageCollection(self.args.terra_NDVI_dir)\n",
        "      aqua_ndvi = ee.ImageCollection(self.args.terra_NDVI_dir)\n",
        "      MODIS_NDVI = terra_ndvi.merge(aqua_ndvi)\\\n",
        "                             .filterBounds(self.roi) \\\n",
        "                             .select('NDVI')  \n",
        "      return MODIS_NDVI.map(lambda img: img.divide(10000)\\\n",
        "                                            .float()\\\n",
        "                                            .set(\"system:time_start\", img.get(\"system:time_start\")))\n",
        "                  \n",
        "      \n",
        "    elif self.index == 'ETCI':\n",
        "      modis_et = ee.ImageCollection(self.args.modis_ET_dir)\n",
        "      MODIS_ET = modis_et.filterBounds(self.roi) \\\n",
        "                         .select('ET')\n",
        "      return MODIS_ET.map(lambda img: img.multiply(0.1)\\\n",
        "                                         .float()\\\n",
        "                                         .set(\"system:time_start\", img.get(\"system:time_start\")))                      \n",
        "\n",
        "\n",
        "    elif self.index == 'PCI':\n",
        "      precip = ee.ImageCollection(self.args.precip_dir)\n",
        "      return precip.filterBounds(self.roi)\\\n",
        "                   .select('precipitationCal')            \n",
        "    \n",
        "    elif self.index == 'SMCI':\n",
        "      sm = ee.ImageCollection(self.args.sm_dir)\n",
        "      return sm.filterBounds(self.roi) \\\n",
        "               .select('SoilMoi10_40cm_inst') \n",
        "\n",
        "  \n",
        "  def seasonal_filter (self): \n",
        "    if self.args.season == 'sowing':\n",
        "      return self.raw_data.filter(ee.Filter.calendarRange(2016, 2021, 'year')) \\\n",
        "                          .filter(ee.Filter.calendarRange(11, 12, 'month'))\n",
        "    else:\n",
        "      return self.raw_data.filter(ee.Filter.calendarRange(2016, 2022, 'year')) \\\n",
        "                          .filter(ee.Filter.calendarRange(1, 4, 'month'))\n",
        "  \n",
        "  ## Map over the years and create a monthly aggregates (sum or mean) \n",
        "  def monthly_Data (self):\n",
        "    monthly_data = []\n",
        "    for year in self.args.years:\n",
        "      for month in self.args.months:\n",
        "        Monthly_data = self.seasonal_data.filter(ee.Filter.calendarRange(year, year, 'year')) \\\n",
        "                                         .filter(ee.Filter.calendarRange(month, month, 'month')) \\\n",
        "\n",
        "        if self.sum == False:\n",
        "          monthly_data.append (Monthly_data.mean() \\\n",
        "                                           .set({'month': month, 'year': year}))\n",
        "        else:\n",
        "          monthly_data.append (Monthly_data.sum() \\\n",
        "                                           .set({'month': month, 'year': year}))      \n",
        "    return ee.ImageCollection.fromImages(monthly_data)\n",
        "\n",
        "\n",
        "  ## compute Min and Max for each month across all years\n",
        "  def monthly_Min_Max(self):\n",
        "    min, max = [], []\n",
        "    for month in self.args.months:\n",
        "      Monthly_min = self.monthly_agg.filter(ee.Filter.eq('month', month)) \\\n",
        "                                    .min()\\\n",
        "                                    .set('month', month)\n",
        "\n",
        "      Monthly_max = self.monthly_agg.filter(ee.Filter.eq('month', month)) \\\n",
        "                                    .max()\\\n",
        "                                    .set('month', month)\n",
        "      min.append(Monthly_min)\n",
        "      max.append(Monthly_max)\n",
        "    return ee.ImageCollection.fromImages(min), ee.ImageCollection.fromImages(max)\n",
        "\n",
        "  def Compute_Index (self, image):\n",
        "    # TCI = (max - avg) / (max - min)\n",
        "    # VCI, PCI, ETCI = (avg - min) / (max - min)\n",
        "    if self.index =='TCI':\n",
        "      expression = '(max - avg) / (max - min)'\n",
        "    else: \n",
        "      expression = '(avg - min) / (max - min)'\n",
        "    \n",
        "    return image.expression(expression,\n",
        "                            {'avg': image.select('avg'),\n",
        "                            'min': image.select('min'),\n",
        "                            'max': image.select('max')\n",
        "                            }).rename(self.index) \n",
        "  \n",
        "  def get_scaled_index(self):\n",
        "    Index_img = []\n",
        "    for year in self.args.years:\n",
        "      for month in self.args.months:\n",
        "        filtered =  self.monthly_agg.filter(ee.Filter.eq('year', year)) \\\n",
        "                                    .filter(ee.Filter.eq('month', month))\n",
        "        avg = ee.Image(filtered.first())\n",
        "        min = ee.Image(self.monthly_min.filter(ee.Filter.eq('month', month)).first())\n",
        "        max = ee.Image(self.monthly_max.filter(ee.Filter.eq('month', month)).first())\n",
        "\n",
        "        image = ee.Image.cat([avg, min, max]) \\\n",
        "                        .rename(['avg', 'min', 'max'])\n",
        "        \n",
        "        ScaledIndex = self.Compute_Index (image).set('month', month).set('year', year)\n",
        "        Index_img.append (ScaledIndex)\n",
        "\n",
        "    return ee.ImageCollection.fromImages(Index_img)"
      ],
      "metadata": {
        "id": "cI_0yLICESaJ"
      },
      "execution_count": 4,
      "outputs": []
    },
    {
      "cell_type": "code",
      "source": [
        "# This helper function returns a list of new band names.\n",
        "def getNewBandNames(prefix, bandNames):\n",
        "  seq = ee.List.sequence(1, len(bandNames))\n",
        "  return seq.map(lambda b: ee.String(prefix).cat(ee.Number(b).int().format()))\n",
        "\n",
        "\n",
        "# This function accepts mean centered imagery, a scale and\n",
        "# a region in which to perform the analysis.  It returns the\n",
        "# Principal Components (PC) in the region as a new image.\n",
        "def getPrincipalComponents(centered, scale, region, bandNames):\n",
        "  # Collapse the bands of the image into a 1D array per pixel.\n",
        "  arrays = centered.toArray()\n",
        "\n",
        "  # Compute the covariance of the bands within the region.\n",
        "  covar= arrays.reduceRegion(**{\n",
        "    'reducer': ee.Reducer.centeredCovariance(),\n",
        "    'geometry': region,\n",
        "    'scale': scale,\n",
        "    'maxPixels': 1e9\n",
        "  })\n",
        "\n",
        "  # Get the 'array' covariance result and cast to an array.\n",
        "  # This represents the band-to-band covariance within the region.\n",
        "  covarArray = ee.Array(covar.get('array'))\n",
        "\n",
        "  # Perform an eigen analysis and slice apart the values and vectors.\n",
        "  eigens = covarArray.eigen()\n",
        "\n",
        "  # This is a P-length vector of Eigenvalues.\n",
        "  eigenValues = eigens.slice(1, 0, 1)\n",
        "  # This is a PxP matrix with eigenvectors in rows.\n",
        "  eigenVectors = eigens.slice(1, 1)\n",
        "\n",
        "  # Convert the array image to 2D arrays for matrix computations.\n",
        "  arrayImage = arrays.toArray(1)\n",
        "\n",
        "  # Left multiply the image array by the matrix of eigenvectors.\n",
        "  principalComponents = ee.Image(eigenVectors).matrixMultiply(arrayImage)\n",
        "\n",
        "  # Turn the square roots of the Eigenvalues into a P-band image.\n",
        "  sdImage = ee.Image(eigenValues.sqrt()) \\\n",
        "    .arrayProject([0]).arrayFlatten([getNewBandNames('sd', bandNames)])\n",
        "\n",
        "  # Turn the PCs into a P-band image, normalized by SD.\n",
        "  return principalComponents \\\n",
        "    .arrayProject([0]) \\\n",
        "    .arrayFlatten([getNewBandNames('pc', bandNames)]) \\\n",
        "    .divide(sdImage), eigenVectors"
      ],
      "metadata": {
        "id": "6BLM6tqUE0tq"
      },
      "execution_count": 5,
      "outputs": []
    },
    {
      "cell_type": "code",
      "source": [
        "def compute_CMDI(VCI, TCI, PCI, ETCI, SMCI, weights, roi):\n",
        "    wVCI = VCI.clip(roi).multiply(weights[0])\n",
        "    wTCI = TCI.clip(roi).multiply(weights[1]) \n",
        "    wPCI = PCI.clip(roi).multiply(weights[2])\n",
        "    wETCI = ETCI.clip(roi).multiply(weights[3]) \n",
        "    wSMCI = SMCI.clip(roi).multiply(weights[4])  \n",
        "    \n",
        "    return  wVCI.add(wTCI).add(wPCI).add(wETCI).add(wSMCI).rename('CMDI') "
      ],
      "metadata": {
        "id": "LXvd4cNvE4VY"
      },
      "execution_count": 6,
      "outputs": []
    },
    {
      "cell_type": "code",
      "source": [
        "args = get_main_args()"
      ],
      "metadata": {
        "id": "FfMIuDdzFHb3"
      },
      "execution_count": 7,
      "outputs": []
    },
    {
      "cell_type": "markdown",
      "source": [
        "## **Define ROI**"
      ],
      "metadata": {
        "id": "VT-TEIv8FbXC"
      }
    },
    {
      "cell_type": "code",
      "source": [
        "# countries: Afghanistan, Burkina Faso, Ethiopia, Ghana, Kenya, Senegal, Zambia\n",
        "roi = ee.FeatureCollection(args.zambia_dir) \n",
        "Map = geemap.Map(plugin_Draw=True, Draw_export=False)\n",
        "Map.centerObject(roi, 6)\n",
        "Map.addLayer(roi, {}, ' Zambia Boundary Map')\n",
        "Map"
      ],
      "metadata": {
        "id": "Y6bWNhjuFXr-"
      },
      "execution_count": null,
      "outputs": []
    },
    {
      "cell_type": "markdown",
      "source": [
        "## **Getting data for the growing season**"
      ],
      "metadata": {
        "id": "lfJe8lleGtNo"
      }
    },
    {
      "cell_type": "code",
      "source": [
        "TCI = GetIndices(args, roi, index='TCI', sum=False).get_scaled_index()\n",
        "VCI = GetIndices(args, roi, index='VCI', sum=False).get_scaled_index()\n",
        "ETCI = GetIndices(args, roi, index='ETCI', sum=True).get_scaled_index()\n",
        "PCI  = GetIndices(args, roi, index='PCI', sum=True).get_scaled_index()\n",
        "SMCI = GetIndices(args, roi, index='SMCI', sum=False).get_scaled_index()\n",
        "\n",
        "listOfVCIImages = VCI.toList(VCI.size())\n",
        "listOfTCIImages = TCI.toList(TCI.size())\n",
        "listOfPCIImages = PCI.toList(PCI.size())\n",
        "listOfETCIImages = ETCI.toList(ETCI.size())\n",
        "listOfSMCIImages = SMCI.toList(SMCI.size())\n",
        "\n",
        "args.idx = 10\n",
        "\n",
        "VCI_image = ee.Image(listOfVCIImages.get(args.idx))\n",
        "TCI_image = ee.Image(listOfTCIImages.get(args.idx))\n",
        "PCI_image = ee.Image(listOfPCIImages.get(args.idx))\n",
        "ETCI_image = ee.Image(listOfETCIImages.get(args.idx))\n",
        "SMCI_image = ee.Image(listOfSMCIImages.get(args.idx))"
      ],
      "metadata": {
        "id": "D6djIAwjGAJN"
      },
      "execution_count": 33,
      "outputs": []
    },
    {
      "cell_type": "code",
      "source": [
        "if args.season == 'Growing':\n",
        "  month = ['January', 'February', 'March', 'April']\n",
        "  year = ['2016', '2017', '2018', '2019', '2020', '2021', '2022']\n",
        "else:\n",
        "  month = ['November', 'December']\n",
        "  year = ['2016', '2017', '2018', '2019', '2020', '2021', '2022']\n",
        "        \n",
        "dates = [i+' '+j for j in year for i in month]\n",
        "date = dates[args.idx]"
      ],
      "metadata": {
        "id": "ah6HWzA8J_S6"
      },
      "execution_count": 34,
      "outputs": []
    },
    {
      "cell_type": "code",
      "source": [
        "Map = geemap.Map(zoom = 6, plugin_Draw=True, Draw_export=False)\n",
        "Map.centerObject(roi, 6)\n",
        "Map.addLayer(VCI_image.clip(roi), args.vciVis, 'VCI, '+date) \n",
        "Map.addLayer(TCI_image.clip(roi), args.tciVis, 'TCI, '+date)\n",
        "Map.addLayer(PCI_image.clip(roi), args.pciVis, 'PCI, '+date) \n",
        "Map.addLayer(ETCI_image.clip(roi), args.etciVis, 'ETCI,'+date)\n",
        "\n",
        "Map.addLayer(SMCI_image.clip(roi), args.smciVis, 'SMCI, '+date) \n",
        "Map.add_colorbar(args.vciVis, label=\"VCI\", orientation=\"vertical\", layer_name=\"VCI, \"+date)\n",
        "Map"
      ],
      "metadata": {
        "colab": {
          "base_uri": "https://localhost:8080/",
          "height": 621,
          "referenced_widgets": [
            "055ab869ce4b47d5a234c388da443bd6",
            "159feaa0adc64aaeb551f0e1119925e4",
            "6c32ec198e7d4085ac3a5819f8f3dfc1",
            "bc272b13723b4f79ba25fb380d757369",
            "6aa38ec8c254470999429c8795860bef",
            "b5bf793f12c1419287a6e520825a183e",
            "55b719559e6b4f549da2e6dc5b66419e",
            "3098fd8b49704deea274ebd78ca9b192",
            "05b035c4e72344bf82fd379497a8e2e8",
            "bef60b8159b84460b8bf87131e9bd3d8",
            "a4a2973081b8464a8d3e991d8e77bece",
            "ca4dedb68b94470681b2bc4948ebec45",
            "e4a56b12467b4d3d89b176a04134b011",
            "2adad660c1ff48ea84a4d791d496e531",
            "65d5fcbdad6d4fb8b025d5ae829018ca",
            "d3ff99bd160b4533a95e4f6e954137cf",
            "227b4e9c10f9491487fe01289c47ada4",
            "9e288f3ffb054fcb8b5ed2aba0b11e23",
            "6db839f264dc4a75a419d2c7f04141a5",
            "627aee69b93b4be9bf831b9f4204fe19",
            "17f6d5cb2aef440684da8819f763cff2",
            "7df7c810e6894d04af8a71319b3a2c14",
            "e7b34dc95a78483b8f15e8f2a6f624e0",
            "4ba49ba0c67642e0b8b2a72c2851e3dd",
            "4b1d68e6ad5e4071bc8564602932a93c",
            "d6b0f00bb8ed46bab617b829d1560b48",
            "3c7f92baad1d44289a38e4880e523b11",
            "bf70d151b17a4f00afcc492812fa7cd1",
            "7b6ecd4b27eb40009f3b65db3fd77ffb",
            "adf65ae2270e42a0bb3df12d7084630e",
            "5a4e35302f454ef585221fddfba4911f",
            "bc4a4d1d3d2441089a64ef8edb7e26bf",
            "d21bfcf1e9fd418591327792968e7a5a"
          ]
        },
        "id": "9I8v-nmsJZSw",
        "outputId": "81741e37-8d06-49af-e761-1c8813634c36"
      },
      "execution_count": 28,
      "outputs": [
        {
          "output_type": "display_data",
          "data": {
            "text/plain": [
              "Map(center=[-13.453394449965073, 27.828177406658938], controls=(WidgetControl(options=['position', 'transparen…"
            ],
            "application/vnd.jupyter.widget-view+json": {
              "version_major": 2,
              "version_minor": 0,
              "model_id": "055ab869ce4b47d5a234c388da443bd6"
            }
          },
          "metadata": {
            "application/vnd.jupyter.widget-view+json": {
              "colab": {
                "custom_widget_manager": {
                  "url": "https://ssl.gstatic.com/colaboratory-static/widgets/colab-cdn-widget-manager/d2e234f7cc04bf79/manager.min.js"
                }
              }
            }
          }
        }
      ]
    },
    {
      "cell_type": "markdown",
      "source": [
        "## **Compute the contribution coefficients using PCA**"
      ],
      "metadata": {
        "id": "DX-lNnP9Gzqq"
      }
    },
    {
      "cell_type": "code",
      "source": [
        "gc.collect()\n",
        "\n",
        "image = ee.Image.cat([VCI_image.clip(roi), \n",
        "                      TCI_image.clip(roi),\n",
        "                      PCI_image.clip(roi),\n",
        "                      ETCI_image.clip(roi),\n",
        "                      SMCI_image.clip(roi)]) \n",
        "\n",
        "# Get the PCs at the specified scale and in the specified region\n",
        "pcImage, eigenVectors = getPrincipalComponents(image, args.scale, roi, args.bandNames)    \n",
        "eigenVectors_np = np.array(eigenVectors.getInfo())[0]\n",
        "contrib_coeff = eigenVectors_np**2\n",
        "weights = [math.ceil(i*100)/100 for i in contrib_coeff]\n",
        "weights"
      ],
      "metadata": {
        "colab": {
          "base_uri": "https://localhost:8080/"
        },
        "id": "z91ZMGfcGZkq",
        "outputId": "df480ac6-4e85-4fe9-cd4c-51bcd939673c"
      },
      "execution_count": 35,
      "outputs": [
        {
          "output_type": "execute_result",
          "data": {
            "text/plain": [
              "[0.2, 0.14, 0.14, 0.15, 0.4]"
            ]
          },
          "metadata": {},
          "execution_count": 35
        }
      ]
    },
    {
      "cell_type": "markdown",
      "source": [
        "## **Compute CMDI**"
      ],
      "metadata": {
        "id": "UUNfoPfvG_JT"
      }
    },
    {
      "cell_type": "code",
      "source": [
        "CMDI_image = compute_CMDI(VCI_image, TCI_image, PCI_image, ETCI_image, SMCI_image, weights, roi)"
      ],
      "metadata": {
        "id": "UDW7R1M0G41t"
      },
      "execution_count": 13,
      "outputs": []
    },
    {
      "cell_type": "code",
      "source": [
        "Map = geemap.Map(zoom = 6, plugin_Draw=True, Draw_export=False)\n",
        "Map.centerObject(roi, 6)\n",
        "Map.addLayer(CMDI_image.clip(roi), args.cdmiVis, 'CMDI,'+date) \n",
        "Map.add_colorbar(args.cdmiVis, label=\"CMDI\", orientation=\"vertical\", layer_name=\"CMDI, \"+date)\n",
        "Map"
      ],
      "metadata": {
        "id": "ZOL_HbXXJKEf"
      },
      "execution_count": null,
      "outputs": []
    },
    {
      "cell_type": "code",
      "source": [
        "img = SMCI_image.reduceRegion(reducer=ee.Reducer.toList(),\\\n",
        "                                        geometry=roi,\\\n",
        "                                        maxPixels=1e13,\\\n",
        "                                        scale=1000);"
      ],
      "metadata": {
        "id": "rn44BKbqM1So"
      },
      "execution_count": 25,
      "outputs": []
    },
    {
      "cell_type": "code",
      "source": [
        "arr = np.array((ee.Array(img.get('SMCI')).getInfo())) \n",
        "gc.collect()\n",
        "arr.max(), arr.min() "
      ],
      "metadata": {
        "colab": {
          "base_uri": "https://localhost:8080/"
        },
        "id": "i1iERp3SOSi6",
        "outputId": "b589e636-c278-4af6-ed7e-fc92d9618b4e"
      },
      "execution_count": 27,
      "outputs": [
        {
          "output_type": "execute_result",
          "data": {
            "text/plain": [
              "(1.0, 0.0)"
            ]
          },
          "metadata": {},
          "execution_count": 27
        }
      ]
    }
  ]
}